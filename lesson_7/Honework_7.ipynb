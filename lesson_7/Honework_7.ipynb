{
  "nbformat": 4,
  "nbformat_minor": 0,
  "metadata": {
    "colab": {
      "name": "Honework_7.ipynb",
      "provenance": [],
      "collapsed_sections": []
    },
    "kernelspec": {
      "name": "python3",
      "display_name": "Python 3"
    }
  },
  "cells": [
    {
      "cell_type": "markdown",
      "metadata": {
        "id": "qSbt_FBHd_Wl"
      },
      "source": [
        "**Пример 1.** \n",
        "Даны значения величины заработной платы заемщиков банка (zp) и значения их поведенческого кредитного скоринга (ks): zp = [35, 45, 190, 200, 40, 70, 54, 150, 120, 110], ks = [401, 574, 874, 919, 459, 739, 653, 902, 746, 832]. Используя математические операции, посчитать коэффициенты линейной регрессии, приняв за X заработную плату (то есть, zp - признак), а за y - значения скорингового балла (то есть, ks - целевая переменная). Произвести расчет как с использованием intercept, так и без."
      ]
    },
    {
      "cell_type": "code",
      "metadata": {
        "id": "NUqliERubmyF"
      },
      "source": [
        "import numpy as np\n",
        "import matplotlib.pyplot as plt"
      ],
      "execution_count": 82,
      "outputs": []
    },
    {
      "cell_type": "code",
      "metadata": {
        "id": "hv2STA8ceFhA"
      },
      "source": [
        "zp = np.array([35, 45, 190, 200, 40, 70, 54, 150, 120, 110])\n",
        "ks = np.array([401, 574, 874, 919, 459, 739, 653, 902, 746, 832])"
      ],
      "execution_count": 83,
      "outputs": []
    },
    {
      "cell_type": "code",
      "metadata": {
        "colab": {
          "base_uri": "https://localhost:8080/"
        },
        "id": "GVyrnUVvevC5",
        "outputId": "907fd4bd-9401-4120-dbd5-79a9d7d7423a"
      },
      "source": [
        "X = zp.reshape((len(zp), 1)) # для решения без intercept'а\n",
        "y = ks.reshape((len(ks), 1))\n",
        "X_int = np.hstack([np.ones((len(X), 1)), X]) # для решения с intercept'ом\n",
        "X_int"
      ],
      "execution_count": 84,
      "outputs": [
        {
          "output_type": "execute_result",
          "data": {
            "text/plain": [
              "array([[  1.,  35.],\n",
              "       [  1.,  45.],\n",
              "       [  1., 190.],\n",
              "       [  1., 200.],\n",
              "       [  1.,  40.],\n",
              "       [  1.,  70.],\n",
              "       [  1.,  54.],\n",
              "       [  1., 150.],\n",
              "       [  1., 120.],\n",
              "       [  1., 110.]])"
            ]
          },
          "metadata": {
            "tags": []
          },
          "execution_count": 84
        }
      ]
    },
    {
      "cell_type": "markdown",
      "metadata": {
        "id": "xt_v2879VV-x"
      },
      "source": [
        "Построим линейную регрессию. Формула с intercept'ом: $$y = \\beta_0 + \\beta_1x$$\n",
        "Без него:\n",
        "$$y = \\beta_1x$$\n",
        "\n",
        "Для решения матричным методом применим формулу: $\\hat{B} = ({X}^T \\cdot {X})^{-1} \\cdot {X}^T \\cdot {Y}$, где $\\hat{B}$ - вектор значений $\\beta_0$ и $\\beta_1$ или только $\\beta_1$, соответственно.\n"
      ]
    },
    {
      "cell_type": "code",
      "metadata": {
        "colab": {
          "base_uri": "https://localhost:8080/"
        },
        "id": "KvBaKgi80KY1",
        "outputId": "690b6a02-2410-4ef7-94d6-f7172d01b7b3"
      },
      "source": [
        "# С intercept'ом\n",
        "B_int = np.dot(np.linalg.inv(np.dot(X_int.T, X_int)), X_int.T@y)\n",
        "B_int"
      ],
      "execution_count": 85,
      "outputs": [
        {
          "output_type": "execute_result",
          "data": {
            "text/plain": [
              "array([[444.17735732],\n",
              "       [  2.62053888]])"
            ]
          },
          "metadata": {
            "tags": []
          },
          "execution_count": 85
        }
      ]
    },
    {
      "cell_type": "code",
      "metadata": {
        "colab": {
          "base_uri": "https://localhost:8080/"
        },
        "id": "VyqRGfBlywJL",
        "outputId": "fa767f37-bcac-44fb-ea60-e663ccac6aac"
      },
      "source": [
        "# Без intercept'а\n",
        "B = np.dot(np.linalg.inv(np.dot(X.T, X)), X.T@y)\n",
        "B"
      ],
      "execution_count": 86,
      "outputs": [
        {
          "output_type": "execute_result",
          "data": {
            "text/plain": [
              "array([[5.88982042]])"
            ]
          },
          "metadata": {
            "tags": []
          },
          "execution_count": 86
        }
      ]
    },
    {
      "cell_type": "markdown",
      "metadata": {
        "id": "xVdHWdGC4ZgA"
      },
      "source": [
        "Ответом будет 2 уравнения линейной регрессии:\n",
        "$$y = 444.1774 + 2.6205x$$\n",
        "или\n",
        "$$y = 5.8898x$$"
      ]
    },
    {
      "cell_type": "code",
      "metadata": {
        "colab": {
          "base_uri": "https://localhost:8080/",
          "height": 265
        },
        "id": "2-FJ67l16c_2",
        "outputId": "79c37a58-3677-4fc4-dcc8-d76335b248a8"
      },
      "source": [
        "# Оценим визуально ответы\n",
        "%matplotlib inline\n",
        "plt.scatter(X,y)\n",
        "plt.plot(X, B_int[0,0] + B_int[1,0] * X, label='y = 444.18 + 2.62 * x')\n",
        "plt.plot(X, B[0,0] * X, label='y = 5.89 * x')\n",
        "plt.legend()\n",
        "plt.show()"
      ],
      "execution_count": 87,
      "outputs": [
        {
          "output_type": "display_data",
          "data": {
            "image/png": "[encoded data removed]",
            "text/plain": [
              "<Figure size 432x288 with 1 Axes>"
            ]
          },
          "metadata": {
            "tags": [],
            "needs_background": "light"
          }
        }
      ]
    },
    {
      "cell_type": "markdown",
      "metadata": {
        "id": "B28Xhux28Thk"
      },
      "source": [
        "Графически становится очевидно, что использование формулы с intercept'ом дало гораздо большую точность за счет того, что линия регрессии не привязана к началу координат и может более гибко подстраиваться."
      ]
    },
    {
      "cell_type": "markdown",
      "metadata": {
        "id": "APW1t0dh-z5h"
      },
      "source": [
        "**Пример 2.** \n",
        "Посчитать коэффициент линейной регрессии при заработной плате (zp), используя градиентный спуск (без intercept). <br><br>\n",
        "Зададим функцию средней квадратичной ошибки (Mean Squared Error) - её мы хотим минимизировать:\n",
        "$$MSE = \\frac{\\sum\\limits_{i=1}^{n}(y_i - \\hat{y}_i)^2}{n}$$\n",
        "\n",
        "$\\mathrm{MSE}$ =\tmean squared error<br>\n",
        "${n}$\t=\tnumber of data points<br>\n",
        "$y_{i}$\t=\tobserved values<br>\n",
        "$\\hat{y}_{i}$\t=\tpredicted values<br>\n",
        "\n",
        "Соответственно, для модели $y = \\beta_1x$ можем произвести подстановку $\\hat{y_i} = \\beta_1x_i$, отсюда окончательная формула:\n",
        "\n",
        "$$MSE = \\frac{\\sum\\limits_{i=1}^{n}(y_i - \\beta_1x_i)^2}{n}$$"
      ]
    },
    {
      "cell_type": "code",
      "metadata": {
        "colab": {
          "base_uri": "https://localhost:8080/"
        },
        "id": "oU4kDPZU8nnJ",
        "outputId": "902135f5-9acd-4f6d-c9a0-963ca963302a"
      },
      "source": [
        "X, y = zp, ks\n",
        "n = len(y)\n",
        "B1 = 0.1\n",
        "alpha = 1e-6 # Скорость обучения\n",
        "alpha"
      ],
      "execution_count": 88,
      "outputs": [
        {
          "output_type": "execute_result",
          "data": {
            "text/plain": [
              "1e-06"
            ]
          },
          "metadata": {
            "tags": []
          },
          "execution_count": 88
        }
      ]
    },
    {
      "cell_type": "code",
      "metadata": {
        "id": "QQ95qi0Q8pbD"
      },
      "source": [
        "def mse_(B1, y=y, X=X, n=n):\n",
        "  \"\"\"Функция MSE\"\"\"\n",
        "  return np.sum((y-B1*X)**2)/n"
      ],
      "execution_count": 89,
      "outputs": []
    },
    {
      "cell_type": "markdown",
      "metadata": {
        "id": "I3JCquBAQyIQ"
      },
      "source": [
        "Находим далее производную по переменной $\\beta_1$, когда $y_i$ и $x_i$ константы.\n",
        "$$MSE_{\\beta_1}' = 2 \\cdot \\frac{\\sum\\limits_{i=1}^{n}(y_i - \\beta_1x_i) \\cdot (-x_i)}{n}$$"
      ]
    },
    {
      "cell_type": "code",
      "metadata": {
        "id": "0u4TfUIz8y00"
      },
      "source": [
        "#mse = (1/n)*np.sum((y-B1*X)**2)\n",
        "#mse_der = (2/n)*np.sum((y-B1*X)*X) "
      ],
      "execution_count": 90,
      "outputs": []
    },
    {
      "cell_type": "code",
      "metadata": {
        "id": "keBHNtyaYIiG"
      },
      "source": [
        "def mse_der(B1, y=y, X=X, n=n):\n",
        "  \"\"\"Производная MSE\"\"\"\n",
        "  return -2*np.sum((y-B1*X)*X)/n"
      ],
      "execution_count": 91,
      "outputs": []
    },
    {
      "cell_type": "code",
      "metadata": {
        "colab": {
          "base_uri": "https://localhost:8080/"
        },
        "id": "EJvPsd2698rQ",
        "outputId": "96f7b5be-0060-4413-8e20-99fd139a2263"
      },
      "source": [
        "for i in range(600):\n",
        "  B1 -= alpha*(2/n)*np.sum((y-B1*X)*(-1)*X) # В зависимости от знака можно подбирать B1 в ту или иную сторону\n",
        "  if i%30==0:\n",
        "    print(f'B1={B1}, MSE={mse_(B1)}, MSE_der={mse_der(B1)}')"
      ],
      "execution_count": 92,
      "outputs": [
        {
          "output_type": "stream",
          "text": [
            "B1=0.25952808, MSE=493237.7212546963, MSE_der=-155132.57090614398\n",
            "B1=3.4547782236263824, MSE=138204.25062502263, MSE_der=-67093.20464877757\n",
            "B1=4.836690291080364, MSE=71796.25222021657, MSE_der=-29017.105071804508\n",
            "B1=5.434352720103083, MSE=59374.825462025976, MSE_der=-12549.592632455746\n",
            "B1=5.692835432193034, MSE=57051.433003054815, MSE_der=-5427.5667696988985\n",
            "B1=5.804626485478126, MSE=56616.849068093856, MSE_der=-2347.3655203240974\n",
            "B1=5.852974939784972, MSE=56535.56138215128, MSE_der=-1015.2108891167085\n",
            "B1=5.873885137561711, MSE=56520.35675226433, MSE_der=-439.06802773466916\n",
            "B1=5.882928578088004, MSE=56517.512769595625, MSE_der=-189.89230222560946\n",
            "B1=5.8868397709626885, MSE=56516.98081074626, MSE_der=-82.12642271085133\n",
            "B1=5.888531320728348, MSE=56516.88130936019, MSE_der=-35.518813707677324\n",
            "B1=5.889262898203911, MSE=56516.862697909644, MSE_der=-15.361513208007091\n",
            "B1=5.889579297764605, MSE=56516.85921669088, MSE_der=-6.643692832276429\n",
            "B1=5.889716137245525, MSE=56516.858565538845, MSE_der=-2.8733272465949993\n",
            "B1=5.88977531888123, MSE=56516.8584437427, MSE_der=-1.242683801693056\n",
            "B1=5.889800914315978, MSE=56516.858420961085, MSE_der=-0.5374476689947187\n",
            "B1=5.889811984072197, MSE=56516.85841669984, MSE_der=-0.23244046194377005\n",
            "B1=5.889816771625289, MSE=56516.8584159028, MSE_der=-0.10052805409432039\n",
            "B1=5.889818842191625, MSE=56516.85841575372, MSE_der=-0.04347732571986853\n",
            "B1=5.889819737689781, MSE=56516.85841572584, MSE_der=-0.018803485908574658\n"
          ],
          "name": "stdout"
        }
      ]
    },
    {
      "cell_type": "markdown",
      "metadata": {
        "id": "xpPBqrNoZy9Q"
      },
      "source": [
        "В результате получаем ответ как в пункте 1 для линейной регрессии без intercept'а:\n",
        "$$y = 5.8898x$$\n",
        "\n",
        "Выше можно отметить, что при таком значении $\\beta_1$ значение функции $MSE$ стремится к своему минимуму, а её производная стремится к нулю."
      ]
    },
    {
      "cell_type": "markdown",
      "metadata": {
        "id": "PYzjCUUYle8H"
      },
      "source": [
        "**Задание 4.** Произвести вычисления как в пункте 2, но с вычислением intercept. Учесть, что изменение коэффициентов должно производиться на каждом шаге одновременно (то есть изменение одного коэффициента не должно влиять на изменение другого во время одной итерации).<br><br>\n",
        "Для модели линейной регрессии с intercept'ом вида $y = \\beta_0 + \\beta_1x$ после подстановки получаем соответственно:\n",
        "\n",
        "$$MSE = \\frac{\\sum\\limits_{i=1}^{n}(y_i - \\beta_0 - \\beta_1x_i)^2}{n}$$\n",
        "и частные производные вида:\n",
        "$$MSE_{\\beta_0}' = 2 \\cdot \\frac{\\sum\\limits_{i=1}^{n}(y_i - \\beta_0 - \\beta_1x_i) \\cdot (-1)}{n}$$\n",
        "$$MSE_{\\beta_1}' = 2 \\cdot \\frac{\\sum\\limits_{i=1}^{n}(y_i - \\beta_0 -  \\beta_1x_i) \\cdot (-x_i)}{n}$$"
      ]
    },
    {
      "cell_type": "code",
      "metadata": {
        "id": "pmnzEiCI90dv"
      },
      "source": [
        "X, y = zp, ks\n",
        "n = len(y)\n",
        "np.random.seed(42)\n",
        "B0 = np.random.randn(1) # Попробуем сгенерировать случайно, т.к. начальное значение не принципиально\n",
        "B1 = np.random.randn(1)"
      ],
      "execution_count": 93,
      "outputs": []
    },
    {
      "cell_type": "code",
      "metadata": {
        "colab": {
          "base_uri": "https://localhost:8080/"
        },
        "id": "pB_-F2xnI1K3",
        "outputId": "5780e401-7568-4c3c-c56b-ebbb4446a7da"
      },
      "source": [
        "# Настроим гиперпараметры\n",
        "epochs = 2000000 # Число итераций обучения модели\n",
        "alpha = 5e-5 # Скорость обучения\n",
        "alpha"
      ],
      "execution_count": 94,
      "outputs": [
        {
          "output_type": "execute_result",
          "data": {
            "text/plain": [
              "5e-05"
            ]
          },
          "metadata": {
            "tags": []
          },
          "execution_count": 94
        }
      ]
    },
    {
      "cell_type": "code",
      "metadata": {
        "id": "h0lheVarjRKQ"
      },
      "source": [
        "def mse_int(B0, B1, y=y, X=X, n=n):\n",
        "  \"\"\"Функция MSE\"\"\"\n",
        "  return np.sum((y-B0-B1*X)**2)/n\n",
        "\n",
        "def mse_der_b0_int(B0, B1, y=y, X=X, n=n):\n",
        "  \"\"\"Производная MSE\"\"\"\n",
        "  return [-2*np.sum((y-B0-B1*X))/n]\n",
        "\n",
        "def mse_der_b1_int(B0, B1, y=y, X=X, n=n):\n",
        "  \"\"\"Производная MSE\"\"\"\n",
        "  return [-2*np.sum((y-B0-B1*X)*X)/n]"
      ],
      "execution_count": 95,
      "outputs": []
    },
    {
      "cell_type": "code",
      "metadata": {
        "colab": {
          "base_uri": "https://localhost:8080/"
        },
        "id": "mV5okKAsLyGe",
        "outputId": "d1fd183b-be63-482e-a737-325e5e63bf2b"
      },
      "source": [
        "for i in range(1400000):\n",
        "  B0 -= alpha*(2/n)*np.sum((y-B0-B1*X)*(-1))\n",
        "  B1 -= alpha*(2/n)*np.sum((y-B0-B1*X)*(-1)*X) # В зависимости от знака можно подбирать B1 в ту или иную сторону\n",
        "  if i%200000==0:\n",
        "    print(f'B0={B0}, B1={B1}, MSE={mse_int(B0, B1)}, mse_der_b0_int={mse_der_b0_int(B0, B1)}, mse_der_b1_int={mse_der_b1_int(B0, B1)}')"
      ],
      "execution_count": 96,
      "outputs": [
        {
          "output_type": "stream",
          "text": [
            "B0=[0.56905648], B1=[8.16061666], MSE=127690.26150363192, mse_der_b0_int=[236.31117227169608], mse_der_b1_int=[62683.10770051738]\n",
            "B0=[441.39996253], B1=[2.64098122], MSE=6472.3709524663445, mse_der_b0_int=[-1.4090840305107803], mse_der_b1_int=[-0.003916893695713952]\n",
            "B0=[444.15996894], B1=[2.62066687], MSE=6470.414277873725, mse_der_b0_int=[-0.0088218252853153], mse_der_b1_int=[-2.4522418243577704e-05]\n",
            "B0=[444.17724846], B1=[2.62053968], MSE=6470.414201179667, mse_der_b0_int=[-5.523063146597451e-05], mse_der_b1_int=[-1.5352779882960022e-07]\n",
            "B0=[444.17735664], B1=[2.62053889], MSE=6470.414201176661, mse_der_b0_int=[-3.457820014318713e-07], mse_der_b1_int=[-9.626091923564673e-10]\n",
            "B0=[444.17735732], B1=[2.62053888], MSE=6470.414201176657, mse_der_b0_int=[-2.208435034845024e-09], mse_der_b1_int=[-5.093170329928398e-12]\n",
            "B0=[444.17735732], B1=[2.62053888], MSE=6470.414201176658, mse_der_b0_int=[-5.684000825567636e-10], mse_der_b1_int=[-0.0]\n"
          ],
          "name": "stdout"
        }
      ]
    },
    {
      "cell_type": "markdown",
      "metadata": {
        "id": "vOX5-nIa4rvM"
      },
      "source": [
        "Ещё пробую вариант из одной статьи:"
      ]
    },
    {
      "cell_type": "code",
      "metadata": {
        "id": "DxKd0iN_5CSK"
      },
      "source": [
        "X, y = zp, ks\n",
        "n = len(y)\n",
        "np.random.seed(42)\n",
        "B0 = np.random.randn(1) # Попробуем сгенерировать случайно, т.к. начальное значение не принципиально\n",
        "B1 = np.random.randn(1)"
      ],
      "execution_count": 97,
      "outputs": []
    },
    {
      "cell_type": "code",
      "metadata": {
        "colab": {
          "base_uri": "https://localhost:8080/"
        },
        "id": "3QSdL8xH5Fj6",
        "outputId": "31b84438-aaca-414c-b644-c10ae48e214c"
      },
      "source": [
        "# Настроим гиперпараметры\n",
        "epochs = 1400000 # Число итераций обучения модели\n",
        "alpha = 5e-5 # Скорость обучения\n",
        "alpha"
      ],
      "execution_count": 98,
      "outputs": [
        {
          "output_type": "execute_result",
          "data": {
            "text/plain": [
              "5e-05"
            ]
          },
          "metadata": {
            "tags": []
          },
          "execution_count": 98
        }
      ]
    },
    {
      "cell_type": "markdown",
      "metadata": {
        "id": "9yEiW7Na5Y7K"
      },
      "source": [
        "В принципе то же самое, но более детально расписаны шаги."
      ]
    },
    {
      "cell_type": "code",
      "metadata": {
        "colab": {
          "base_uri": "https://localhost:8080/"
        },
        "id": "GkLawutYJoAs",
        "outputId": "1b9fe207-8a88-48d2-be9a-005c0603bc26"
      },
      "source": [
        "for epoch in range(epochs):\n",
        "  # Computes our model's predicted output\n",
        "  y_pred = B0 + B1 * X\n",
        "\n",
        "  # How wrong is our model? That's the error! \n",
        "  error = (y - y_pred)\n",
        "  # It is a regression, so it computes mean squared error (MSE)\n",
        "  loss = (error ** 2).mean()\n",
        "\n",
        "  # Computes gradients for both \"a\" and \"b\" parameters\n",
        "  B0_grad = -2 * error.mean()\n",
        "  B1_grad = -2 * (X * error).mean()\n",
        "\n",
        "  # Updates parameters using gradients and the learning rate\n",
        "  B0 = B0 - alpha * B0_grad\n",
        "  B1 = B1 - alpha * B1_grad\n",
        "  if epoch%200000==0:\n",
        "    print(B0, B1, mse_int(B0, B1), mse_der_b1_int(B0, B1))"
      ],
      "execution_count": 99,
      "outputs": [
        {
          "output_type": "stream",
          "text": [
            "[0.56905648] [8.16135021] 127736.25018640919 [62703.31938377153]\n",
            "[441.39891067] [2.64098948] 6472.372434876379 [0.01037463503635081]\n",
            "[444.15995577] [2.62066697] 6470.414277989975 [6.497686918010004e-05]\n",
            "[444.17724834] [2.62053968] 6470.414201179671 [4.0696140786167233e-07]\n",
            "[444.17735664] [2.62053889] 6470.414201176659 [2.552405931055546e-09]\n",
            "[444.17735732] [2.62053888] 6470.414201176658 [1.4915713109076022e-11]\n",
            "[444.17735732] [2.62053888] 6470.414201176658 [-3.637978807091713e-12]\n"
          ],
          "name": "stdout"
        }
      ]
    },
    {
      "cell_type": "markdown",
      "metadata": {
        "id": "1wN1hqFo5eiM"
      },
      "source": [
        "**Задание 3.**\n",
        "В каких случаях для вычисления доверительных интервалов и проверки статистических гипотез используется таблица значений функции Лапласа, а в каких - таблица критических точек распределения Стьюдента?"
      ]
    },
    {
      "cell_type": "markdown",
      "metadata": {
        "id": "XXlRgKxo5ngX"
      },
      "source": [
        "Ответ: таблица значений функции Лапласа используется для получения Z-критерия, когда известно среднее квадратичное отклонение генеральной совокупности. Когда среднее квадратичное отклонение генеральной совокупности не известно, то используется таблица распределения Стьюдента."
      ]
    }
  ]
}