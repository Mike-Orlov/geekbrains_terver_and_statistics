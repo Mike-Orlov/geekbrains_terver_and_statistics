{
  "nbformat": 4,
  "nbformat_minor": 0,
  "metadata": {
    "colab": {
      "name": "Homework_6.ipynb",
      "provenance": [],
      "collapsed_sections": []
    },
    "kernelspec": {
      "name": "python3",
      "display_name": "Python 3"
    }
  },
  "cells": [
    {
      "cell_type": "markdown",
      "metadata": {
        "id": "-WCty5Eija8u"
      },
      "source": [
        "**Пример 1.**\n",
        "Даны значения величины заработной платы заемщиков банка (zp) и значения их поведенческого кредитного скоринга (ks):\n",
        "zp = [35, 45, 190, 200, 40, 70, 54, 150, 120, 110],\n",
        "ks = [401, 574, 874, 919, 459, 739, 653, 902, 746, 832].\n",
        "Найдите ковариацию этих двух величин с помощью элементарных действий, а затем с помощью функции cov из numpy\n",
        "Полученные значения должны быть равны.\n",
        "Найдите коэффициент корреляции Пирсона с помощью ковариации и среднеквадратичных отклонений двух признаков,\n",
        "а затем с использованием функций из библиотек numpy и pandas."
      ]
    },
    {
      "cell_type": "code",
      "metadata": {
        "id": "ir5MW0kljPol"
      },
      "source": [
        "import numpy as np"
      ],
      "execution_count": 1,
      "outputs": []
    },
    {
      "cell_type": "code",
      "metadata": {
        "id": "m0gnoAQGjdQj"
      },
      "source": [
        "zp = np.array([35, 45, 190, 200, 40, 70, 54, 150, 120, 110])\n",
        "ks = np.array([401, 574, 874, 919, 459, 739, 653, 902, 746, 832])"
      ],
      "execution_count": 2,
      "outputs": []
    },
    {
      "cell_type": "code",
      "metadata": {
        "colab": {
          "base_uri": "https://localhost:8080/"
        },
        "id": "vWFjU6hDjzqs",
        "outputId": "0e9e11ec-8827-4ab8-d542-db5ef9b536df"
      },
      "source": [
        "cov_v1 = np.mean(zp * ks) - np.mean(zp) * np.mean(ks)\n",
        "cov_v1"
      ],
      "execution_count": 3,
      "outputs": [
        {
          "output_type": "execute_result",
          "data": {
            "text/plain": [
              "9157.839999999997"
            ]
          },
          "metadata": {
            "tags": []
          },
          "execution_count": 3
        }
      ]
    },
    {
      "cell_type": "code",
      "metadata": {
        "colab": {
          "base_uri": "https://localhost:8080/"
        },
        "id": "Z7oPwVT-j06U",
        "outputId": "25a0c0aa-af0f-4a11-9305-e33cc5e5d2e6"
      },
      "source": [
        "cov_v2 = np.cov(zp, ks, ddof=0) # ddof=0, для несмещенной оценки ковариации\n",
        "cov_v2[0, 1]"
      ],
      "execution_count": 4,
      "outputs": [
        {
          "output_type": "execute_result",
          "data": {
            "text/plain": [
              "9157.84"
            ]
          },
          "metadata": {
            "tags": []
          },
          "execution_count": 4
        }
      ]
    },
    {
      "cell_type": "code",
      "metadata": {
        "colab": {
          "base_uri": "https://localhost:8080/"
        },
        "id": "fCELQmarh2oE",
        "outputId": "0e288887-6739-457d-9eff-e9921a91d307"
      },
      "source": [
        "# Mean square deviation of zp and ks\n",
        "sigma_zp = np.std(zp)\n",
        "sigma_ks = np.std(ks)\n",
        "\n",
        "# Pearson's correlation\n",
        "corr_v1 = cov_v1 / (sigma_ks * sigma_zp)\n",
        "corr_v1"
      ],
      "execution_count": 5,
      "outputs": [
        {
          "output_type": "execute_result",
          "data": {
            "text/plain": [
              "0.8874900920739158"
            ]
          },
          "metadata": {
            "tags": []
          },
          "execution_count": 5
        }
      ]
    },
    {
      "cell_type": "code",
      "metadata": {
        "colab": {
          "base_uri": "https://localhost:8080/"
        },
        "id": "rUlKSe1IleH0",
        "outputId": "c142b774-eddb-444b-e1f1-0c00aa53a9d0"
      },
      "source": [
        "corr_v2 = np.corrcoef(zp, ks)\n",
        "corr_v2[0, 1]"
      ],
      "execution_count": 6,
      "outputs": [
        {
          "output_type": "execute_result",
          "data": {
            "text/plain": [
              "0.8874900920739162"
            ]
          },
          "metadata": {
            "tags": []
          },
          "execution_count": 6
        }
      ]
    },
    {
      "cell_type": "markdown",
      "metadata": {
        "id": "bZsvAU0joKNk"
      },
      "source": [
        "**Пример 2.**\n",
        "Измерены значения IQ выборки студентов,\n",
        "обучающихся в местных технических вузах:\n",
        "131, 125, 115, 122, 131, 115, 107, 99, 125, 111.\n",
        "Известно, что в генеральной совокупности IQ распределен нормально.\n",
        "Найдите доверительный интервал для математического ожидания с надежностью 0.95."
      ]
    },
    {
      "cell_type": "code",
      "metadata": {
        "id": "GErXZJ1ooJXF"
      },
      "source": [
        "iq_stud = np.array([131, 125, 115, 122, 131, 115, 107, 99, 125, 111])\n",
        "X = np.mean(iq_stud) # X is expected value\n",
        "sigma_iq = np.std(iq_stud, ddof=1) # mean square deviation of iq_stud\n",
        "t_coeff_table = 2.262 # for a/2 = 0.025 and degrees of freedom = 9"
      ],
      "execution_count": 7,
      "outputs": []
    },
    {
      "cell_type": "code",
      "metadata": {
        "colab": {
          "base_uri": "https://localhost:8080/"
        },
        "id": "HmZ9_ujypl9o",
        "outputId": "085dbb1b-00e5-4db9-aad1-65b20980b70b"
      },
      "source": [
        "a = X - t_coeff_table * (sigma_iq / np.sqrt(len(iq_stud)))\n",
        "b = X + t_coeff_table * (sigma_iq / np.sqrt(len(iq_stud)))\n",
        "confidence_interval = [a, b]\n",
        "confidence_interval"
      ],
      "execution_count": 8,
      "outputs": [
        {
          "output_type": "execute_result",
          "data": {
            "text/plain": [
              "[110.55660776308164, 125.64339223691834]"
            ]
          },
          "metadata": {
            "tags": []
          },
          "execution_count": 8
        }
      ]
    },
    {
      "cell_type": "markdown",
      "metadata": {
        "id": "aY8fjoMkvqJn"
      },
      "source": [
        "**Пример 3.**\n",
        "Известно, что рост футболистов в сборной распределен нормально\n",
        "с дисперсией генеральной совокупности, равной 25 кв.см. Объем выборки равен 27,\n",
        "среднее выборочное составляет 174.2. Найдите доверительный интервал для математического\n",
        "ожидания с надежностью 0.95."
      ]
    },
    {
      "cell_type": "code",
      "metadata": {
        "id": "VMFdStw8vwG4"
      },
      "source": [
        "variance_team = 25\n",
        "n_team = 27\n",
        "X = 174.2\n",
        "z_coeff = 1.96 # for a/2 = 0.025"
      ],
      "execution_count": 9,
      "outputs": []
    },
    {
      "cell_type": "code",
      "metadata": {
        "colab": {
          "base_uri": "https://localhost:8080/"
        },
        "id": "b_y4AA4_xhRi",
        "outputId": "11c8e712-f31e-4f4a-b2a1-79f0eab527f8"
      },
      "source": [
        "a = X - z_coeff * (np.sqrt(variance_team) / np.sqrt(n_team)) # mean square deviation == np.sqrt(variance)\n",
        "b = X + z_coeff * (np.sqrt(variance_team) / np.sqrt(n_team))\n",
        "confidence_interval = [a, b]\n",
        "confidence_interval"
      ],
      "execution_count": 10,
      "outputs": [
        {
          "output_type": "execute_result",
          "data": {
            "text/plain": [
              "[172.31398912064722, 176.08601087935276]"
            ]
          },
          "metadata": {
            "tags": []
          },
          "execution_count": 10
        }
      ]
    }
  ]
}