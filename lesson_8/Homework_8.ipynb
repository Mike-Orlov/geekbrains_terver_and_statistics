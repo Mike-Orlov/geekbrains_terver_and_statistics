{
  "nbformat": 4,
  "nbformat_minor": 0,
  "metadata": {
    "colab": {
      "name": "Homework_8.ipynb",
      "provenance": [],
      "collapsed_sections": []
    },
    "kernelspec": {
      "name": "python3",
      "display_name": "Python 3"
    }
  },
  "cells": [
    {
      "cell_type": "markdown",
      "metadata": {
        "id": "grDHi0pMlSGB"
      },
      "source": [
        "**Задача 1.** \n",
        "Провести дисперсионный анализ для определения того, есть ли различия среднего роста среди взрослых футболистов, хоккеистов и штангистов.\n",
        "Даны значения роста в трех группах случайно выбранных спортсменов:\n",
        "Футболисты: 173, 175, 180, 178, 177, 185, 183, 182.\n",
        "Хоккеисты: 177, 179, 180, 188, 177, 172, 171, 184, 180.\n",
        "Штангисты: 172, 173, 169, 177, 166, 180, 178, 177, 172, 166, 170."
      ]
    },
    {
      "cell_type": "code",
      "metadata": {
        "id": "Jxpyx932lInr"
      },
      "source": [
        "import numpy as np"
      ],
      "execution_count": 1,
      "outputs": []
    },
    {
      "cell_type": "code",
      "metadata": {
        "id": "w45APou11YLd"
      },
      "source": [
        "y_football = np.array([173, 175, 180, 178, 177, 185, 183, 182])\n",
        "y_hockey = np.array([177, 179, 180, 188, 177, 172, 171, 184, 180])\n",
        "y_lifting = np.array([172, 173, 169, 177, 166, 180, 178, 177, 172, 166, 170])"
      ],
      "execution_count": 3,
      "outputs": []
    },
    {
      "cell_type": "code",
      "metadata": {
        "colab": {
          "base_uri": "https://localhost:8080/"
        },
        "id": "6jadX3mv7tux",
        "outputId": "d4c12c19-95d1-4108-de6e-145bc7b8275c"
      },
      "source": [
        "# Получаем число наблюдений\n",
        "n_f = len(y_football)\n",
        "n_h = len(y_hockey)\n",
        "n_l = len(y_lifting)\n",
        "n = n1 + n2 +n3\n",
        "\n",
        "n_f, n_h, n_l, n"
      ],
      "execution_count": 21,
      "outputs": [
        {
          "output_type": "execute_result",
          "data": {
            "text/plain": [
              "(8, 9, 11, 28)"
            ]
          },
          "metadata": {
            "tags": []
          },
          "execution_count": 21
        }
      ]
    },
    {
      "cell_type": "code",
      "metadata": {
        "id": "obTXJQ138InE"
      },
      "source": [
        "# Число групп: футболисты, хоккеисты, штангисты\n",
        "k = 3"
      ],
      "execution_count": 8,
      "outputs": []
    },
    {
      "cell_type": "code",
      "metadata": {
        "colab": {
          "base_uri": "https://localhost:8080/"
        },
        "id": "lTZi43sw9mFD",
        "outputId": "3c3f1910-69db-4015-9cce-1cd1573ab48c"
      },
      "source": [
        "# Вычисляем среднее для каждой группы\n",
        "y_football_mean = np.mean(y_football)\n",
        "y_hockey_mean = np.mean(y_hockey)\n",
        "y_lifting_mean = np.mean(y_lifting)\n",
        "\n",
        "y_football_mean, y_hockey_mean, y_lifting_mean"
      ],
      "execution_count": 14,
      "outputs": [
        {
          "output_type": "execute_result",
          "data": {
            "text/plain": [
              "(179.125, 178.66666666666666, 172.72727272727272)"
            ]
          },
          "metadata": {
            "tags": []
          },
          "execution_count": 14
        }
      ]
    },
    {
      "cell_type": "markdown",
      "metadata": {
        "id": "wXELfG5iAYm8"
      },
      "source": [
        "Средние отличаются, но является ли это различие статистически значимым?"
      ]
    },
    {
      "cell_type": "code",
      "metadata": {
        "colab": {
          "base_uri": "https://localhost:8080/"
        },
        "id": "5jJzxlAX-1q8",
        "outputId": "cd155f7a-1d0e-4175-9c0b-03ff552332ab"
      },
      "source": [
        "# Среднее по всем группам\n",
        "y_all = np.concatenate([y_football, y_hockey, y_lifting])\n",
        "y_mean = np.mean(y_all)\n",
        "y_mean"
      ],
      "execution_count": 17,
      "outputs": [
        {
          "output_type": "execute_result",
          "data": {
            "text/plain": [
              "176.46428571428572"
            ]
          },
          "metadata": {
            "tags": []
          },
          "execution_count": 17
        }
      ]
    },
    {
      "cell_type": "markdown",
      "metadata": {
        "id": "HoCWgRBJBsYb"
      },
      "source": [
        "Найдем $S^2$ — сумму квадратов отклонений наблюдений от общего среднего:"
      ]
    },
    {
      "cell_type": "code",
      "metadata": {
        "colab": {
          "base_uri": "https://localhost:8080/"
        },
        "id": "J5jqs9b0BQt8",
        "outputId": "67e6564e-20cf-4699-b9f4-ebc7c0597406"
      },
      "source": [
        "s2 = np.sum((y_all - y_mean)**2)\n",
        "s2"
      ],
      "execution_count": 25,
      "outputs": [
        {
          "output_type": "execute_result",
          "data": {
            "text/plain": [
              "834.9093651158041"
            ]
          },
          "metadata": {
            "tags": []
          },
          "execution_count": 25
        }
      ]
    },
    {
      "cell_type": "markdown",
      "metadata": {
        "id": "NEzOFPADB2JX"
      },
      "source": [
        "Найдем $S^2_F$ - сумму квадратов отклонений средних групповых значений от общего среднего:"
      ]
    },
    {
      "cell_type": "code",
      "metadata": {
        "colab": {
          "base_uri": "https://localhost:8080/"
        },
        "id": "g77vT3-_B1Ou",
        "outputId": "89c9c071-16d7-459a-e723-c37d4bad739a"
      },
      "source": [
        "s2_f = ((y_football_mean - y_mean)**2) * n_f + ((y_hockey_mean - y_mean)**2) * n_h + ((y_lifting_mean - y_mean)**2) * n_l\n",
        "s2_f"
      ],
      "execution_count": 27,
      "outputs": [
        {
          "output_type": "execute_result",
          "data": {
            "text/plain": [
              "257.8525469339864"
            ]
          },
          "metadata": {
            "tags": []
          },
          "execution_count": 27
        }
      ]
    },
    {
      "cell_type": "markdown",
      "metadata": {
        "id": "21KzzMYNEEp7"
      },
      "source": [
        "Найдем $S^2_{ост}$ — остаточную сумму квадратов отклонений:"
      ]
    },
    {
      "cell_type": "code",
      "metadata": {
        "colab": {
          "base_uri": "https://localhost:8080/"
        },
        "id": "bVi3Q9EMDeiV",
        "outputId": "4855c976-f93c-48ed-ad0d-7f15b1b00992"
      },
      "source": [
        "s2_residual = np.sum((y_football - y_football_mean)**2) + np.sum((y_hockey - y_hockey_mean)**2) + np.sum((y_lifting - y_lifting_mean)**2)\n",
        "s2_residual"
      ],
      "execution_count": 28,
      "outputs": [
        {
          "output_type": "execute_result",
          "data": {
            "text/plain": [
              "577.0568181818182"
            ]
          },
          "metadata": {
            "tags": []
          },
          "execution_count": 28
        }
      ]
    },
    {
      "cell_type": "markdown",
      "metadata": {
        "id": "cS9LhZ8sE1lx"
      },
      "source": [
        "Удостоверимся, что соблюдается равенство $S^2 = S_F^2 + S_{ост}^2$:"
      ]
    },
    {
      "cell_type": "code",
      "metadata": {
        "colab": {
          "base_uri": "https://localhost:8080/"
        },
        "id": "CGxbm8VcEvNQ",
        "outputId": "c171eb25-4f8f-462f-aba2-1602081ebdd1"
      },
      "source": [
        "print(s2)\n",
        "print(s2_f + s2_residual)"
      ],
      "execution_count": 29,
      "outputs": [
        {
          "output_type": "stream",
          "text": [
            "834.9093651158041\n",
            "834.9093651158046\n"
          ],
          "name": "stdout"
        }
      ]
    },
    {
      "cell_type": "markdown",
      "metadata": {
        "id": "mCAsgZfuFDKB"
      },
      "source": [
        "Найдем общую дисперсию:"
      ]
    },
    {
      "cell_type": "code",
      "metadata": {
        "colab": {
          "base_uri": "https://localhost:8080/"
        },
        "id": "XVtH3mD5E6Ux",
        "outputId": "e92292ed-4468-48f9-ea5a-6a1defe73213"
      },
      "source": [
        "variance_general = s2 / (n - 1)\n",
        "variance_general"
      ],
      "execution_count": 30,
      "outputs": [
        {
          "output_type": "execute_result",
          "data": {
            "text/plain": [
              "30.922569078363114"
            ]
          },
          "metadata": {
            "tags": []
          },
          "execution_count": 30
        }
      ]
    },
    {
      "cell_type": "markdown",
      "metadata": {
        "id": "kFv6ByTdGIJV"
      },
      "source": [
        "Найдем факторную дисперсию:"
      ]
    },
    {
      "cell_type": "code",
      "metadata": {
        "colab": {
          "base_uri": "https://localhost:8080/"
        },
        "id": "Ka5e5hoIGD1x",
        "outputId": "4f471529-93f7-4888-d49e-c26db25562fa"
      },
      "source": [
        "variance_f = s2_f / (k - 1)\n",
        "variance_f"
      ],
      "execution_count": 31,
      "outputs": [
        {
          "output_type": "execute_result",
          "data": {
            "text/plain": [
              "128.9262734669932"
            ]
          },
          "metadata": {
            "tags": []
          },
          "execution_count": 31
        }
      ]
    },
    {
      "cell_type": "markdown",
      "metadata": {
        "id": "kOqyfhJKGSB1"
      },
      "source": [
        "Найдем остаточную дисперсию:"
      ]
    },
    {
      "cell_type": "code",
      "metadata": {
        "colab": {
          "base_uri": "https://localhost:8080/"
        },
        "id": "g_Cz7cODGRLr",
        "outputId": "290eca5f-dc9d-484c-dde4-39a7aa539d58"
      },
      "source": [
        "variance_residual = s2_residual / (n - k)\n",
        "variance_residual"
      ],
      "execution_count": 32,
      "outputs": [
        {
          "output_type": "execute_result",
          "data": {
            "text/plain": [
              "23.08227272727273"
            ]
          },
          "metadata": {
            "tags": []
          },
          "execution_count": 32
        }
      ]
    },
    {
      "cell_type": "markdown",
      "metadata": {
        "id": "RGTYolw5GgV-"
      },
      "source": [
        "Вычислим $F_H$:"
      ]
    },
    {
      "cell_type": "code",
      "metadata": {
        "colab": {
          "base_uri": "https://localhost:8080/"
        },
        "id": "SBKfmQf7GakO",
        "outputId": "4b1d9a26-e511-40e6-8921-24f132b43537"
      },
      "source": [
        "F_h = variance_f / variance_residual\n",
        "F_h"
      ],
      "execution_count": 33,
      "outputs": [
        {
          "output_type": "execute_result",
          "data": {
            "text/plain": [
              "5.585510360713357"
            ]
          },
          "metadata": {
            "tags": []
          },
          "execution_count": 33
        }
      ]
    },
    {
      "cell_type": "markdown",
      "metadata": {
        "id": "McDNdlOMGnOH"
      },
      "source": [
        "Найдем значение $F_{крит}$ в таблице критических точек распределения Фишера-Снедекора для уровня значимости $\\alpha = 0.05$ (в задаче не задан, поэтому выбираю сам) и двух степеней свободы: \n",
        "\n",
        "$df_{межд} = k - 1 = 3 - 1 = 2$ и $df_{внутр} = n - k = 28 - 3 = 25$."
      ]
    },
    {
      "cell_type": "markdown",
      "metadata": {
        "id": "Z0fvepSLGsfk"
      },
      "source": [
        "Для данных значений $F_{крит} = 3.38$. Так как $F_H > F_{крит}$, различие среднего роста в трех группах статистически значимо.\n",
        "\n"
      ]
    },
    {
      "cell_type": "markdown",
      "metadata": {
        "id": "yRdavNltIVSs"
      },
      "source": [
        "Также вычислим эмпирический коэффициент детерминации $\\eta^2$:"
      ]
    },
    {
      "cell_type": "code",
      "metadata": {
        "colab": {
          "base_uri": "https://localhost:8080/"
        },
        "id": "F7tgIkNsGmCh",
        "outputId": "94c75c98-1725-4db5-b264-95379d5bf320"
      },
      "source": [
        "eta2 = s2_f / s2\n",
        "eta2"
      ],
      "execution_count": 34,
      "outputs": [
        {
          "output_type": "execute_result",
          "data": {
            "text/plain": [
              "0.30883896828516416"
            ]
          },
          "metadata": {
            "tags": []
          },
          "execution_count": 34
        }
      ]
    },
    {
      "cell_type": "markdown",
      "metadata": {
        "id": "scnGHikdSz0k"
      },
      "source": [
        "Можем сделать вывод, что 30,88% дисперсии роста спортсменов объясняется фактором вида спорта.<br><br> \n",
        "Эмпирическое корреляционное отношение $\\eta$ (correlation ratio):"
      ]
    },
    {
      "cell_type": "code",
      "metadata": {
        "colab": {
          "base_uri": "https://localhost:8080/"
        },
        "id": "JCdKJ7q0IYD3",
        "outputId": "a025c223-852b-4628-c7a0-f8e793482200"
      },
      "source": [
        "eta = np.sqrt(s2_f / s2)\n",
        "eta"
      ],
      "execution_count": 35,
      "outputs": [
        {
          "output_type": "execute_result",
          "data": {
            "text/plain": [
              "0.5557328209537062"
            ]
          },
          "metadata": {
            "tags": []
          },
          "execution_count": 35
        }
      ]
    },
    {
      "cell_type": "markdown",
      "metadata": {
        "id": "CjosOHbuVbnD"
      },
      "source": [
        "В величине средних по видам спорта колеблемость есть, но не очень сильная."
      ]
    }
  ]
}